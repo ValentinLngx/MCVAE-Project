{
 "cells": [
  {
   "cell_type": "code",
   "execution_count": 1,
   "metadata": {},
   "outputs": [
    {
     "name": "stderr",
     "output_type": "stream",
     "text": [
      "c:\\Users\\valig\\anaconda3\\envs\\mcvaetorch\\Lib\\site-packages\\tqdm\\auto.py:21: TqdmWarning: IProgress not found. Please update jupyter and ipywidgets. See https://ipywidgets.readthedocs.io/en/stable/user_install.html\n",
      "  from .autonotebook import tqdm as notebook_tqdm\n"
     ]
    }
   ],
   "source": [
    "from sklearn.datasets import make_moons\n",
    "import torch\n",
    "from torch.utils.data import TensorDataset, DataLoader\n",
    "import numpy as np\n",
    "import matplotlib.pyplot as plt\n",
    "import torch.nn as nn\n",
    "\n",
    "import pytorch_lightning as pl\n",
    "from pytorch_lightning import loggers as pl_loggers\n",
    "\n",
    "from vaes import FMCVAE, LMCVAE, AMCVAE \n",
    "from utils import str2bool, repeat_data\n",
    "from run_toy import ToyEncoder, ToyDecoder, replace_enc_dec"
   ]
  },
  {
   "cell_type": "code",
   "execution_count": 2,
   "metadata": {},
   "outputs": [],
   "source": [
    "device = torch.device(\"cuda:0\" if torch.cuda.is_available() else \"cpu\")"
   ]
  },
  {
   "cell_type": "code",
   "execution_count": 3,
   "metadata": {},
   "outputs": [],
   "source": [
    "import matplotlib.pyplot as plt\n",
    "import pytorch_lightning as pl\n",
    "\n",
    "class ELBOLogger(pl.Callback):\n",
    "    def __init__(self):\n",
    "        super().__init__()\n",
    "        self.val_losses = []\n",
    "\n",
    "    def on_validation_epoch_end(self, trainer, pl_module):\n",
    "        val_loss = trainer.callback_metrics.get(\"val_loss\")\n",
    "        if val_loss is not None:\n",
    "            self.val_losses.append(val_loss.item())"
   ]
  },
  {
   "cell_type": "code",
   "execution_count": null,
   "metadata": {},
   "outputs": [
    {
     "name": "stderr",
     "output_type": "stream",
     "text": [
      "GPU available: True (cuda), used: True\n",
      "TPU available: False, using: 0 TPU cores\n",
      "HPU available: False, using: 0 HPUs\n",
      "You are using a CUDA device ('NVIDIA GeForce RTX 4060 Laptop GPU') that has Tensor Cores. To properly utilize them, you should set `torch.set_float32_matmul_precision('medium' | 'high')` which will trade-off precision for performance. For more details, read https://pytorch.org/docs/stable/generated/torch.set_float32_matmul_precision.html#torch.set_float32_matmul_precision\n",
      "c:\\Users\\valig\\anaconda3\\envs\\mcvaetorch\\Lib\\site-packages\\pytorch_lightning\\callbacks\\model_checkpoint.py:654: Checkpoint directory c:\\Users\\valig\\Documents\\Master ENS\\Bayesian ML\\code\\checkpoints exists and is not empty.\n",
      "LOCAL_RANK: 0 - CUDA_VISIBLE_DEVICES: [0]\n",
      "\n",
      "  | Name           | Type       | Params | Mode \n",
      "------------------------------------------------------\n",
      "0 | encoder_net    | ToyEncoder | 1      | train\n",
      "1 | decoder_net    | ToyDecoder | 2      | train\n",
      "2 | Flow           | NormFlow   | 20     | train\n",
      "3 | markov_sampler | ULA        | 1      | train\n",
      "------------------------------------------------------\n",
      "23        Trainable params\n",
      "1         Non-trainable params\n",
      "24        Total params\n",
      "0.000     Total estimated model params size (MB)\n",
      "16        Modules in train mode\n",
      "0         Modules in eval mode\n"
     ]
    },
    {
     "name": "stdout",
     "output_type": "stream",
     "text": [
      "FMCVAE\n",
      "Sanity Checking DataLoader 0:   0%|          | 0/1 [00:00<?, ?it/s]"
     ]
    },
    {
     "name": "stderr",
     "output_type": "stream",
     "text": [
      "c:\\Users\\valig\\anaconda3\\envs\\mcvaetorch\\Lib\\site-packages\\pytorch_lightning\\trainer\\connectors\\data_connector.py:425: The 'val_dataloader' does not have many workers which may be a bottleneck. Consider increasing the value of the `num_workers` argument` to `num_workers=11` in the `DataLoader` to improve performance.\n"
     ]
    },
    {
     "name": "stdout",
     "output_type": "stream",
     "text": [
      "                                                                           "
     ]
    },
    {
     "name": "stderr",
     "output_type": "stream",
     "text": [
      "c:\\Users\\valig\\anaconda3\\envs\\mcvaetorch\\Lib\\site-packages\\pytorch_lightning\\trainer\\connectors\\data_connector.py:425: The 'train_dataloader' does not have many workers which may be a bottleneck. Consider increasing the value of the `num_workers` argument` to `num_workers=11` in the `DataLoader` to improve performance.\n"
     ]
    },
    {
     "name": "stdout",
     "output_type": "stream",
     "text": [
      "Epoch 0: 100%|██████████| 100/100 [00:08<00:00, 12.08it/s]"
     ]
    },
    {
     "name": "stderr",
     "output_type": "stream",
     "text": [
      "`Trainer.fit` stopped: `max_epochs=1` reached.\n"
     ]
    },
    {
     "name": "stdout",
     "output_type": "stream",
     "text": [
      "Epoch 0: 100%|██████████| 100/100 [00:08<00:00, 12.06it/s]"
     ]
    },
    {
     "name": "stderr",
     "output_type": "stream",
     "text": [
      "GPU available: True (cuda), used: True\n",
      "TPU available: False, using: 0 TPU cores\n",
      "HPU available: False, using: 0 HPUs\n",
      "LOCAL_RANK: 0 - CUDA_VISIBLE_DEVICES: [0]\n",
      "\n",
      "  | Name            | Type       | Params | Mode \n",
      "-------------------------------------------------------\n",
      "0 | encoder_net     | ToyEncoder | 1      | train\n",
      "1 | decoder_net     | ToyDecoder | 2      | train\n",
      "2 | transitions_nll | ModuleList | 8      | train\n",
      "3 | transitions     | ModuleList | 10     | train\n",
      "-------------------------------------------------------\n",
      "3         Trainable params\n",
      "18        Non-trainable params\n",
      "21        Total params\n",
      "0.000     Total estimated model params size (MB)\n",
      "18        Modules in train mode\n",
      "0         Modules in eval mode\n"
     ]
    },
    {
     "name": "stdout",
     "output_type": "stream",
     "text": [
      "\n",
      "AMCVAE\n",
      "Epoch 0: 100%|██████████| 100/100 [00:21<00:00,  4.57it/s, val_loss=644.0] "
     ]
    },
    {
     "name": "stderr",
     "output_type": "stream",
     "text": [
      "`Trainer.fit` stopped: `max_epochs=1` reached.\n"
     ]
    },
    {
     "name": "stdout",
     "output_type": "stream",
     "text": [
      "Epoch 0: 100%|██████████| 100/100 [00:21<00:00,  4.56it/s, val_loss=644.0]"
     ]
    },
    {
     "name": "stderr",
     "output_type": "stream",
     "text": [
      "GPU available: True (cuda), used: True\n",
      "TPU available: False, using: 0 TPU cores\n",
      "HPU available: False, using: 0 HPUs\n",
      "LOCAL_RANK: 0 - CUDA_VISIBLE_DEVICES: [0]\n",
      "\n",
      "  | Name            | Type       | Params | Mode \n",
      "-------------------------------------------------------\n",
      "0 | encoder_net     | ToyEncoder | 1      | train\n",
      "1 | decoder_net     | ToyDecoder | 2      | train\n",
      "2 | transitions_nll | ModuleList | 8      | train\n",
      "3 | transitions     | ModuleList | 10     | train\n",
      "-------------------------------------------------------\n",
      "3         Trainable params\n",
      "18        Non-trainable params\n",
      "21        Total params\n",
      "0.000     Total estimated model params size (MB)\n",
      "18        Modules in train mode\n",
      "0         Modules in eval mode\n"
     ]
    },
    {
     "name": "stdout",
     "output_type": "stream",
     "text": [
      "\n",
      "LMCVAE\n",
      "Epoch 0: 100%|██████████| 100/100 [00:14<00:00,  6.80it/s]                 "
     ]
    },
    {
     "name": "stderr",
     "output_type": "stream",
     "text": [
      "`Trainer.fit` stopped: `max_epochs=1` reached.\n"
     ]
    },
    {
     "name": "stdout",
     "output_type": "stream",
     "text": [
      "Epoch 0: 100%|██████████| 100/100 [00:14<00:00,  6.79it/s]"
     ]
    },
    {
     "name": "stderr",
     "output_type": "stream",
     "text": [
      "GPU available: True (cuda), used: True\n",
      "TPU available: False, using: 0 TPU cores\n",
      "HPU available: False, using: 0 HPUs\n",
      "LOCAL_RANK: 0 - CUDA_VISIBLE_DEVICES: [0]\n",
      "\n",
      "  | Name            | Type          | Params | Mode \n",
      "----------------------------------------------------------\n",
      "0 | encoder_net     | ToyEncoder_VB | 4      | train\n",
      "1 | decoder_net     | ToyDecoder    | 2      | train\n",
      "2 | transitions_nll | ModuleList    | 8      | train\n",
      "----------------------------------------------------------\n",
      "6         Trainable params\n",
      "8         Non-trainable params\n",
      "14        Total params\n",
      "0.000     Total estimated model params size (MB)\n",
      "7         Modules in train mode\n",
      "0         Modules in eval mode\n"
     ]
    },
    {
     "name": "stdout",
     "output_type": "stream",
     "text": [
      "\n",
      "VAE\n",
      "Epoch 0: 100%|██████████| 100/100 [00:02<00:00, 45.83it/s, val_loss=939.0]  "
     ]
    },
    {
     "name": "stderr",
     "output_type": "stream",
     "text": [
      "`Trainer.fit` stopped: `max_epochs=1` reached.\n"
     ]
    },
    {
     "name": "stdout",
     "output_type": "stream",
     "text": [
      "Epoch 0: 100%|██████████| 100/100 [00:02<00:00, 45.39it/s, val_loss=939.0]\n"
     ]
    },
    {
     "name": "stderr",
     "output_type": "stream",
     "text": [
      "GPU available: True (cuda), used: True\n",
      "TPU available: False, using: 0 TPU cores\n",
      "HPU available: False, using: 0 HPUs\n",
      "LOCAL_RANK: 0 - CUDA_VISIBLE_DEVICES: [0]\n",
      "\n",
      "  | Name            | Type          | Params | Mode \n",
      "----------------------------------------------------------\n",
      "0 | encoder_net     | ToyEncoder_VB | 4      | train\n",
      "1 | decoder_net     | ToyDecoder    | 2      | train\n",
      "2 | transitions_nll | ModuleList    | 8      | train\n",
      "----------------------------------------------------------\n",
      "6         Trainable params\n",
      "8         Non-trainable params\n",
      "14        Total params\n",
      "0.000     Total estimated model params size (MB)\n",
      "7         Modules in train mode\n",
      "0         Modules in eval mode\n"
     ]
    },
    {
     "name": "stdout",
     "output_type": "stream",
     "text": [
      "IWAE\n",
      "Epoch 0: 100%|██████████| 100/100 [00:02<00:00, 43.81it/s, val_loss=713.0]  "
     ]
    },
    {
     "name": "stderr",
     "output_type": "stream",
     "text": [
      "`Trainer.fit` stopped: `max_epochs=1` reached.\n"
     ]
    },
    {
     "name": "stdout",
     "output_type": "stream",
     "text": [
      "Epoch 0: 100%|██████████| 100/100 [00:02<00:00, 43.42it/s, val_loss=713.0]"
     ]
    },
    {
     "name": "stderr",
     "output_type": "stream",
     "text": [
      "GPU available: True (cuda), used: True\n"
     ]
    },
    {
     "name": "stdout",
     "output_type": "stream",
     "text": [
      "\n",
      "VAE with flows\n"
     ]
    },
    {
     "name": "stderr",
     "output_type": "stream",
     "text": [
      "TPU available: False, using: 0 TPU cores\n",
      "HPU available: False, using: 0 HPUs\n",
      "LOCAL_RANK: 0 - CUDA_VISIBLE_DEVICES: [0]\n",
      "\n",
      "  | Name            | Type          | Params | Mode \n",
      "----------------------------------------------------------\n",
      "0 | encoder_net     | ToyEncoder_VB | 4      | train\n",
      "1 | decoder_net     | ToyDecoder    | 2      | train\n",
      "2 | transitions_nll | ModuleList    | 8      | train\n",
      "3 | Flow            | NormFlow      | 20     | train\n",
      "----------------------------------------------------------\n",
      "26        Trainable params\n",
      "8         Non-trainable params\n",
      "34        Total params\n",
      "0.000     Total estimated model params size (MB)\n",
      "20        Modules in train mode\n",
      "0         Modules in eval mode\n"
     ]
    },
    {
     "name": "stdout",
     "output_type": "stream",
     "text": [
      "Epoch 0: 100%|██████████| 100/100 [00:02<00:00, 37.69it/s, val_loss=1.1e+3]"
     ]
    },
    {
     "name": "stderr",
     "output_type": "stream",
     "text": [
      "`Trainer.fit` stopped: `max_epochs=1` reached.\n"
     ]
    },
    {
     "name": "stdout",
     "output_type": "stream",
     "text": [
      "Epoch 0: 100%|██████████| 100/100 [00:02<00:00, 37.40it/s, val_loss=1.1e+3]\n"
     ]
    }
   ],
   "source": [
    "from run_toy import *\n",
    "from vaes import FMCVAE\n",
    "#results = {'VAE': [], 'IWAE': [], 'L-MCVAE': [], 'A-MCVAE': [], 'VAE with flows': [], 'F-MCVAE':[]}\n",
    "\n",
    "device = torch.device(\"cuda:0\" if torch.cuda.is_available() else \"cpu\")\n",
    "d = 2\n",
    "sigma = 1.0\n",
    "N = 10000\n",
    "\n",
    "# ----- FMCVAE ----- #\n",
    "fmcvae = FMCVAE(shape=28,act_func=nn.ReLU,num_samples=5,hidden_dim=d,net_type='conv',dataset='toy',sampler_type='ULA',\n",
    "    sampler_step_size=0.01,ais_method='AIS',flow_type=\"RealNVP\",num_flows=2).to(device)\n",
    "fmcvae = replace_enc_dec(fmcvae, d)\n",
    "\n",
    "# ----- VAE_Toy ----- #\n",
    "vae = VAE_Toy(shape=28,act_func=nn.LeakyReLU,num_samples=1,hidden_dim=d,net_type='conv',dataset='toy')\n",
    "vae = replace_enc_dec(vae, d)\n",
    "vae.encoder_net = ToyEncoder_VB(d=d).to(device)\n",
    "\n",
    "# ----- IWAE_Toy ----- #\n",
    "iwae = IWAE_Toy(shape=28,act_func=nn.LeakyReLU,num_samples=5,hidden_dim=d,net_type='conv', dataset='toy')\n",
    "iwae = replace_enc_dec(iwae, d)\n",
    "iwae.name = 'IWAE'\n",
    "iwae.encoder_net = ToyEncoder_VB(d=d).to(device)\n",
    "\n",
    "# ----- LMCVAE_Toy ----- #\n",
    "lmcvae = LMCVAE_Toy(shape=28,act_func=nn.LeakyReLU,num_samples=1,hidden_dim=d,net_type='conv', dataset='toy',step_size=0.01, K=10,\n",
    "    use_transforms=False,learnable_transitions=False, return_pre_alphas=True,use_score_matching=False, ula_skip_threshold=0.1,\n",
    "    grad_skip_val=0., grad_clip_val=0., use_cloned_decoder=False,variance_sensitive_step=True,acceptance_rate_target=0.9,annealing_scheme='linear')\n",
    "lmcvae = replace_enc_dec(lmcvae, d)\n",
    "lmcvae.name = 'LMCVAE'\n",
    "\n",
    "# ----- AMCVAE_Toy ----- #\n",
    "amcvae = AMCVAE_Toy(shape=28, act_func=nn.LeakyReLU, num_samples=5, hidden_dim=d,net_type='conv', dataset='toy', step_size=0.01, K=10,\n",
    "    use_barker=False, learnable_transitions=False, use_alpha_annealing=True, grad_skip_val=0., grad_clip_val=0.,use_cloned_decoder=False,\n",
    "    variance_sensitive_step=True, acceptance_rate_target=0.9, annealing_scheme='linear')\n",
    "amcvae = replace_enc_dec(amcvae, d)\n",
    "amcvae.name = 'AMCVAE'\n",
    "\n",
    "# ----- VAE_with_Flows_Toy ----- #\n",
    "flows_vae = VAE_with_flows_Toy( shape=28, act_func=nn.LeakyReLU, num_samples=1,hidden_dim=d, net_type='conv',\n",
    "    dataset='toy', flow_type='RNVP', num_flows=2, need_permute=True)\n",
    "flows_vae = replace_enc_dec(flows_vae, d)\n",
    "flows_vae.name = 'VAE_with_Flows'\n",
    "flows_vae.encoder_net = ToyEncoder_VB(d=d).to(device)\n",
    "\n",
    "X_train = generate_dataset(N=N, d=d, sigma=sigma)\n",
    "X_val = generate_dataset(N=N // 100, d=d, sigma=sigma)\n",
    "\n",
    "train_dataset = ToyDataset(data=X_train)\n",
    "val_dataset = ToyDataset(data=X_val)\n",
    "train_loader = DataLoader(train_dataset, batch_size=100, shuffle=True)\n",
    "val_loader = DataLoader(val_dataset, batch_size=100, shuffle=False)\n",
    "\n",
    "results = {}\n",
    "\n",
    "def train_and_get_elbo(model, train_loader, val_loader, num_epochs=10):\n",
    "    elbo_logger = ELBOLogger()\n",
    "    trainer = pl.Trainer(logger=False,fast_dev_run=False,accelerator=\"gpu\",devices=1,\n",
    "        max_epochs=num_epochs,callbacks=[elbo_logger]) # logger=pl.loggers.TensorBoardLogger('lightning_logs/')\n",
    "    trainer.fit(model, train_dataloaders=train_loader, val_dataloaders=val_loader)\n",
    "    return [-loss for loss in elbo_logger.val_losses]\n",
    "\n",
    "print('FMCVAE')\n",
    "results['F-MCVAE'] = train_and_get_elbo(fmcvae, train_loader, val_loader, num_epochs=20)\n",
    "print('AMCVAE')\n",
    "results['A-MCVAE'] = train_and_get_elbo(amcvae, train_loader, val_loader, num_epochs=20)\n",
    "print('LMCVAE')\n",
    "results['L-MCVAE'] = train_and_get_elbo(lmcvae, train_loader, val_loader, num_epochs=20)\n",
    "print('VAE')\n",
    "results['VAE'] = train_and_get_elbo(vae, train_loader, val_loader, num_epochs=20)\n",
    "print('IWAE')\n",
    "results['IWAE'] = train_and_get_elbo(iwae, train_loader, val_loader, num_epochs=20)\n",
    "print('VAE with flows')\n",
    "results['VAE with flows'] = train_and_get_elbo(flows_vae, train_loader, val_loader, num_epochs=20)"
   ]
  },
  {
   "cell_type": "code",
   "execution_count": 5,
   "metadata": {},
   "outputs": [
    {
     "data": {
      "text/plain": [
       "{'F-MCVAE': [-1332.3883056640625, -1250.1607666015625],\n",
       " 'A-MCVAE': [-718.719482421875, -644.0478515625],\n",
       " 'L-MCVAE': [],\n",
       " 'VAE': [-934.8792724609375, -938.578369140625],\n",
       " 'IWAE': [-753.54296875, -712.8759155273438],\n",
       " 'VAE with flows': [-1194.500244140625, -1096.279541015625]}"
      ]
     },
     "execution_count": 5,
     "metadata": {},
     "output_type": "execute_result"
    }
   ],
   "source": [
    "results"
   ]
  },
  {
   "cell_type": "code",
   "execution_count": 6,
   "metadata": {},
   "outputs": [
    {
     "data": {
      "image/png": "[encoded data removed]",
      "text/plain": [
       "<Figure size 1000x600 with 1 Axes>"
      ]
     },
     "metadata": {},
     "output_type": "display_data"
    }
   ],
   "source": [
    "plt.figure(figsize=(10, 6))\n",
    "for model_name, elbo_curve in results.items():\n",
    "    plt.plot(elbo_curve, marker='o', linestyle='-', label=model_name)\n",
    "plt.xlabel(\"Epoch\")\n",
    "plt.ylabel(\"ELBO\")\n",
    "plt.title(\"ELBO Evolution for Different Methods on Toy Dataset\")\n",
    "plt.legend()\n",
    "plt.grid(True)\n",
    "plt.show()"
   ]
  }
 ],
 "metadata": {
  "kernelspec": {
   "display_name": "mcvaetorch",
   "language": "python",
   "name": "python3"
  },
  "language_info": {
   "codemirror_mode": {
    "name": "ipython",
    "version": 3
   },
   "file_extension": ".py",
   "mimetype": "text/x-python",
   "name": "python",
   "nbconvert_exporter": "python",
   "pygments_lexer": "ipython3",
   "version": "3.11.11"
  }
 },
 "nbformat": 4,
 "nbformat_minor": 2
}
