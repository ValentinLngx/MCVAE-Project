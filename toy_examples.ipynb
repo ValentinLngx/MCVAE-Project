{
 "cells": [
  {
   "cell_type": "code",
   "execution_count": 1,
   "metadata": {},
   "outputs": [
    {
     "name": "stderr",
     "output_type": "stream",
     "text": [
      "c:\\Users\\valig\\anaconda3\\envs\\mcvaetorch\\Lib\\site-packages\\tqdm\\auto.py:21: TqdmWarning: IProgress not found. Please update jupyter and ipywidgets. See https://ipywidgets.readthedocs.io/en/stable/user_install.html\n",
      "  from .autonotebook import tqdm as notebook_tqdm\n"
     ]
    }
   ],
   "source": [
    "from sklearn.datasets import make_moons\n",
    "import torch\n",
    "from torch.utils.data import TensorDataset, DataLoader\n",
    "import numpy as np\n",
    "import matplotlib.pyplot as plt\n",
    "import torch.nn as nn\n",
    "\n",
    "import pytorch_lightning as pl\n",
    "from pytorch_lightning import loggers as pl_loggers\n",
    "\n",
    "from vaes import FMCVAE, LMCVAE, AMCVAE \n",
    "from utils import str2bool, repeat_data\n",
    "from run_toy import ToyEncoder, ToyDecoder, replace_enc_dec"
   ]
  },
  {
   "cell_type": "code",
   "execution_count": 2,
   "metadata": {},
   "outputs": [],
   "source": [
    "device = torch.device(\"cuda:0\" if torch.cuda.is_available() else \"cpu\")"
   ]
  },
  {
   "cell_type": "code",
   "execution_count": 3,
   "metadata": {},
   "outputs": [],
   "source": [
    "import matplotlib.pyplot as plt\n",
    "import pytorch_lightning as pl\n",
    "\n",
    "class ELBOLogger(pl.Callback):\n",
    "    def __init__(self):\n",
    "        super().__init__()\n",
    "        self.val_losses = []\n",
    "\n",
    "    def on_validation_epoch_end(self, trainer, pl_module):\n",
    "        val_loss = trainer.callback_metrics.get(\"val_loss\")\n",
    "        if val_loss is not None:\n",
    "            self.val_losses.append(val_loss.item())"
   ]
  },
  {
   "cell_type": "code",
   "execution_count": null,
   "metadata": {},
   "outputs": [
    {
     "name": "stderr",
     "output_type": "stream",
     "text": [
      "GPU available: True (cuda), used: True\n",
      "TPU available: False, using: 0 TPU cores\n",
      "HPU available: False, using: 0 HPUs\n",
      "You are using a CUDA device ('NVIDIA GeForce RTX 4060 Laptop GPU') that has Tensor Cores. To properly utilize them, you should set `torch.set_float32_matmul_precision('medium' | 'high')` which will trade-off precision for performance. For more details, read https://pytorch.org/docs/stable/generated/torch.set_float32_matmul_precision.html#torch.set_float32_matmul_precision\n",
      "c:\\Users\\valig\\anaconda3\\envs\\mcvaetorch\\Lib\\site-packages\\pytorch_lightning\\callbacks\\model_checkpoint.py:654: Checkpoint directory c:\\Users\\valig\\Documents\\Master ENS\\Bayesian ML\\code\\checkpoints exists and is not empty.\n",
      "LOCAL_RANK: 0 - CUDA_VISIBLE_DEVICES: [0]\n",
      "\n",
      "  | Name           | Type       | Params | Mode \n",
      "------------------------------------------------------\n",
      "0 | encoder_net    | ToyEncoder | 1      | train\n",
      "1 | decoder_net    | ToyDecoder | 2      | train\n",
      "2 | Flow           | NormFlow   | 20     | train\n",
      "3 | markov_sampler | ULA        | 1      | train\n",
      "------------------------------------------------------\n",
      "23        Trainable params\n",
      "1         Non-trainable params\n",
      "24        Total params\n",
      "0.000     Total estimated model params size (MB)\n",
      "16        Modules in train mode\n",
      "0         Modules in eval mode\n"
     ]
    },
    {
     "name": "stdout",
     "output_type": "stream",
     "text": [
      "FMCVAE\n",
      "Sanity Checking DataLoader 0:   0%|          | 0/1 [00:00<?, ?it/s]"
     ]
    },
    {
     "name": "stderr",
     "output_type": "stream",
     "text": [
      "c:\\Users\\valig\\anaconda3\\envs\\mcvaetorch\\Lib\\site-packages\\pytorch_lightning\\trainer\\connectors\\data_connector.py:425: The 'val_dataloader' does not have many workers which may be a bottleneck. Consider increasing the value of the `num_workers` argument` to `num_workers=11` in the `DataLoader` to improve performance.\n"
     ]
    },
    {
     "name": "stdout",
     "output_type": "stream",
     "text": [
      "                                                                           "
     ]
    },
    {
     "name": "stderr",
     "output_type": "stream",
     "text": [
      "c:\\Users\\valig\\anaconda3\\envs\\mcvaetorch\\Lib\\site-packages\\pytorch_lightning\\trainer\\connectors\\data_connector.py:425: The 'train_dataloader' does not have many workers which may be a bottleneck. Consider increasing the value of the `num_workers` argument` to `num_workers=11` in the `DataLoader` to improve performance.\n"
     ]
    },
    {
     "name": "stdout",
     "output_type": "stream",
     "text": [
      "Epoch 19: 100%|██████████| 100/100 [00:08<00:00, 11.98it/s]"
     ]
    },
    {
     "name": "stderr",
     "output_type": "stream",
     "text": [
      "`Trainer.fit` stopped: `max_epochs=20` reached.\n"
     ]
    },
    {
     "name": "stdout",
     "output_type": "stream",
     "text": [
      "Epoch 19: 100%|██████████| 100/100 [00:08<00:00, 11.97it/s]"
     ]
    },
    {
     "name": "stderr",
     "output_type": "stream",
     "text": [
      "GPU available: True (cuda), used: True\n",
      "TPU available: False, using: 0 TPU cores\n",
      "HPU available: False, using: 0 HPUs\n",
      "LOCAL_RANK: 0 - CUDA_VISIBLE_DEVICES: [0]\n",
      "\n",
      "  | Name            | Type       | Params | Mode \n",
      "-------------------------------------------------------\n",
      "0 | encoder_net     | ToyEncoder | 1      | train\n",
      "1 | decoder_net     | ToyDecoder | 2      | train\n",
      "2 | transitions_nll | ModuleList | 8      | train\n",
      "3 | transitions     | ModuleList | 10     | train\n",
      "-------------------------------------------------------\n",
      "3         Trainable params\n",
      "18        Non-trainable params\n",
      "21        Total params\n",
      "0.000     Total estimated model params size (MB)\n",
      "18        Modules in train mode\n",
      "0         Modules in eval mode\n"
     ]
    },
    {
     "name": "stdout",
     "output_type": "stream",
     "text": [
      "\n",
      "AMCVAE\n",
      "Epoch 19: 100%|██████████| 100/100 [00:32<00:00,  3.03it/s, val_loss=361.0]"
     ]
    },
    {
     "name": "stderr",
     "output_type": "stream",
     "text": [
      "`Trainer.fit` stopped: `max_epochs=20` reached.\n"
     ]
    },
    {
     "name": "stdout",
     "output_type": "stream",
     "text": [
      "Epoch 19: 100%|██████████| 100/100 [00:32<00:00,  3.03it/s, val_loss=361.0]"
     ]
    },
    {
     "name": "stderr",
     "output_type": "stream",
     "text": [
      "GPU available: True (cuda), used: True\n",
      "TPU available: False, using: 0 TPU cores\n",
      "HPU available: False, using: 0 HPUs\n",
      "LOCAL_RANK: 0 - CUDA_VISIBLE_DEVICES: [0]\n",
      "\n",
      "  | Name            | Type       | Params | Mode \n",
      "-------------------------------------------------------\n",
      "0 | encoder_net     | ToyEncoder | 1      | train\n",
      "1 | decoder_net     | ToyDecoder | 2      | train\n",
      "2 | transitions_nll | ModuleList | 8      | train\n",
      "3 | transitions     | ModuleList | 10     | train\n",
      "-------------------------------------------------------\n",
      "3         Trainable params\n",
      "18        Non-trainable params\n",
      "21        Total params\n",
      "0.000     Total estimated model params size (MB)\n",
      "18        Modules in train mode\n",
      "0         Modules in eval mode\n"
     ]
    },
    {
     "name": "stdout",
     "output_type": "stream",
     "text": [
      "\n",
      "LMCVAE\n",
      "Epoch 19: 100%|██████████| 100/100 [00:17<00:00,  5.56it/s, val_loss=331.0]"
     ]
    },
    {
     "name": "stderr",
     "output_type": "stream",
     "text": [
      "`Trainer.fit` stopped: `max_epochs=20` reached.\n"
     ]
    },
    {
     "name": "stdout",
     "output_type": "stream",
     "text": [
      "Epoch 19: 100%|██████████| 100/100 [00:17<00:00,  5.56it/s, val_loss=331.0]"
     ]
    },
    {
     "name": "stderr",
     "output_type": "stream",
     "text": [
      "GPU available: True (cuda), used: True\n",
      "TPU available: False, using: 0 TPU cores\n",
      "HPU available: False, using: 0 HPUs\n",
      "LOCAL_RANK: 0 - CUDA_VISIBLE_DEVICES: [0]\n",
      "\n",
      "  | Name            | Type          | Params | Mode \n",
      "----------------------------------------------------------\n",
      "0 | encoder_net     | ToyEncoder_VB | 4      | train\n",
      "1 | decoder_net     | ToyDecoder    | 2      | train\n",
      "2 | transitions_nll | ModuleList    | 8      | train\n",
      "----------------------------------------------------------\n",
      "6         Trainable params\n",
      "8         Non-trainable params\n",
      "14        Total params\n",
      "0.000     Total estimated model params size (MB)\n",
      "7         Modules in train mode\n",
      "0         Modules in eval mode\n"
     ]
    },
    {
     "name": "stdout",
     "output_type": "stream",
     "text": [
      "\n",
      "VAE\n",
      "Epoch 19: 100%|██████████| 100/100 [00:01<00:00, 93.59it/s, val_loss=338.0] "
     ]
    },
    {
     "name": "stderr",
     "output_type": "stream",
     "text": [
      "`Trainer.fit` stopped: `max_epochs=20` reached.\n"
     ]
    },
    {
     "name": "stdout",
     "output_type": "stream",
     "text": [
      "Epoch 19: 100%|██████████| 100/100 [00:01<00:00, 92.87it/s, val_loss=338.0]"
     ]
    },
    {
     "name": "stderr",
     "output_type": "stream",
     "text": [
      "GPU available: True (cuda), used: True\n",
      "TPU available: False, using: 0 TPU cores\n"
     ]
    },
    {
     "name": "stdout",
     "output_type": "stream",
     "text": [
      "\n",
      "IWAE\n"
     ]
    },
    {
     "name": "stderr",
     "output_type": "stream",
     "text": [
      "HPU available: False, using: 0 HPUs\n",
      "LOCAL_RANK: 0 - CUDA_VISIBLE_DEVICES: [0]\n",
      "\n",
      "  | Name            | Type          | Params | Mode \n",
      "----------------------------------------------------------\n",
      "0 | encoder_net     | ToyEncoder_VB | 4      | train\n",
      "1 | decoder_net     | ToyDecoder    | 2      | train\n",
      "2 | transitions_nll | ModuleList    | 8      | train\n",
      "----------------------------------------------------------\n",
      "6         Trainable params\n",
      "8         Non-trainable params\n",
      "14        Total params\n",
      "0.000     Total estimated model params size (MB)\n",
      "7         Modules in train mode\n",
      "0         Modules in eval mode\n"
     ]
    },
    {
     "name": "stdout",
     "output_type": "stream",
     "text": [
      "Epoch 19: 100%|██████████| 100/100 [00:01<00:00, 88.17it/s, val_loss=252.0] "
     ]
    },
    {
     "name": "stderr",
     "output_type": "stream",
     "text": [
      "`Trainer.fit` stopped: `max_epochs=20` reached.\n"
     ]
    },
    {
     "name": "stdout",
     "output_type": "stream",
     "text": [
      "Epoch 19: 100%|██████████| 100/100 [00:01<00:00, 87.63it/s, val_loss=252.0]"
     ]
    },
    {
     "name": "stderr",
     "output_type": "stream",
     "text": [
      "GPU available: True (cuda), used: True\n"
     ]
    },
    {
     "name": "stdout",
     "output_type": "stream",
     "text": [
      "\n",
      "VAE with flows\n"
     ]
    },
    {
     "name": "stderr",
     "output_type": "stream",
     "text": [
      "TPU available: False, using: 0 TPU cores\n",
      "HPU available: False, using: 0 HPUs\n",
      "LOCAL_RANK: 0 - CUDA_VISIBLE_DEVICES: [0]\n",
      "\n",
      "  | Name            | Type          | Params | Mode \n",
      "----------------------------------------------------------\n",
      "0 | encoder_net     | ToyEncoder_VB | 4      | train\n",
      "1 | decoder_net     | ToyDecoder    | 2      | train\n",
      "2 | transitions_nll | ModuleList    | 8      | train\n",
      "3 | Flow            | NormFlow      | 20     | train\n",
      "----------------------------------------------------------\n",
      "26        Trainable params\n",
      "8         Non-trainable params\n",
      "34        Total params\n",
      "0.000     Total estimated model params size (MB)\n",
      "20        Modules in train mode\n",
      "0         Modules in eval mode\n"
     ]
    },
    {
     "name": "stdout",
     "output_type": "stream",
     "text": [
      "Epoch 19: 100%|██████████| 100/100 [00:01<00:00, 71.09it/s, val_loss=305.0]"
     ]
    },
    {
     "name": "stderr",
     "output_type": "stream",
     "text": [
      "`Trainer.fit` stopped: `max_epochs=20` reached.\n"
     ]
    },
    {
     "name": "stdout",
     "output_type": "stream",
     "text": [
      "Epoch 19: 100%|██████████| 100/100 [00:01<00:00, 70.58it/s, val_loss=305.0]\n"
     ]
    }
   ],
   "source": [
    "from run_toy import *\n",
    "from vaes import FMCVAE\n",
    "#results = {'VAE': [], 'IWAE': [], 'L-MCVAE': [], 'A-MCVAE': [], 'VAE with flows': [], 'F-MCVAE':[]}\n",
    "\n",
    "device = torch.device(\"cuda:0\" if torch.cuda.is_available() else \"cpu\")\n",
    "d = 2\n",
    "sigma = 1.0\n",
    "N = 10000\n",
    "\n",
    "# ----- FMCVAE ----- #\n",
    "fmcvae = FMCVAE(shape=28,act_func=nn.ReLU,num_samples=5,hidden_dim=d,net_type='conv',dataset='toy',sampler_type='ULA',\n",
    "    sampler_step_size=0.01,ais_method='AIS',flow_type=\"RealNVP\",num_flows=2).to(device)\n",
    "fmcvae = replace_enc_dec(fmcvae, d)\n",
    "\n",
    "# ----- VAE_Toy ----- #\n",
    "vae = VAE_Toy(shape=28,act_func=nn.LeakyReLU,num_samples=1,hidden_dim=d,net_type='conv',dataset='toy')\n",
    "vae = replace_enc_dec(vae, d)\n",
    "vae.encoder_net = ToyEncoder_VB(d=d).to(device)\n",
    "\n",
    "# ----- IWAE_Toy ----- #\n",
    "iwae = IWAE_Toy(shape=28,act_func=nn.LeakyReLU,num_samples=5,hidden_dim=d,net_type='conv', dataset='toy')\n",
    "iwae = replace_enc_dec(iwae, d)\n",
    "iwae.name = 'IWAE'\n",
    "iwae.encoder_net = ToyEncoder_VB(d=d).to(device)\n",
    "\n",
    "# ----- LMCVAE_Toy ----- #\n",
    "lmcvae = LMCVAE_Toy(shape=28,act_func=nn.LeakyReLU,num_samples=1,hidden_dim=d,net_type='conv', dataset='toy',step_size=0.01, K=10,\n",
    "    use_transforms=False,learnable_transitions=False, return_pre_alphas=True,use_score_matching=False, ula_skip_threshold=0.1,\n",
    "    grad_skip_val=0., grad_clip_val=0., use_cloned_decoder=False,variance_sensitive_step=True,acceptance_rate_target=0.9,annealing_scheme='linear')\n",
    "lmcvae = replace_enc_dec(lmcvae, d)\n",
    "lmcvae.name = 'LMCVAE'\n",
    "\n",
    "# ----- AMCVAE_Toy ----- #\n",
    "amcvae = AMCVAE_Toy(shape=28, act_func=nn.LeakyReLU, num_samples=5, hidden_dim=d,net_type='conv', dataset='toy', step_size=0.01, K=10,\n",
    "    use_barker=False, learnable_transitions=False, use_alpha_annealing=True, grad_skip_val=0., grad_clip_val=0.,use_cloned_decoder=False,\n",
    "    variance_sensitive_step=True, acceptance_rate_target=0.9, annealing_scheme='linear')\n",
    "amcvae = replace_enc_dec(amcvae, d)\n",
    "amcvae.name = 'AMCVAE'\n",
    "\n",
    "# ----- VAE_with_Flows_Toy ----- #\n",
    "flows_vae = VAE_with_flows_Toy( shape=28, act_func=nn.LeakyReLU, num_samples=1,hidden_dim=d, net_type='conv',\n",
    "    dataset='toy', flow_type='RNVP', num_flows=2, need_permute=True)\n",
    "flows_vae = replace_enc_dec(flows_vae, d)\n",
    "flows_vae.name = 'VAE_with_Flows'\n",
    "flows_vae.encoder_net = ToyEncoder_VB(d=d).to(device)\n",
    "\n",
    "#X_train = generate_dataset(N=N, d=d, sigma=sigma)\n",
    "#X_val = generate_dataset(N=N // 100, d=d, sigma=sigma)\n",
    "\n",
    "X_train = generate_dataset(N=10000, d=2, centers=3, cluster_std=1.0)\n",
    "X_val = generate_dataset(N=1000, d=2, centers=3, cluster_std=1.0)\n",
    "\n",
    "train_dataset = ToyDataset(data=X_train)\n",
    "val_dataset = ToyDataset(data=X_val)\n",
    "train_loader = DataLoader(train_dataset, batch_size=100, shuffle=True)\n",
    "val_loader = DataLoader(val_dataset, batch_size=100, shuffle=False)\n",
    "\n",
    "results = {}\n",
    "\n",
    "def train_and_get_elbo(model, train_loader, val_loader, num_epochs=50):\n",
    "    elbo_logger = ELBOLogger()\n",
    "    trainer = pl.Trainer(logger=False,fast_dev_run=False,accelerator=\"gpu\",devices=1,\n",
    "        max_epochs=num_epochs,callbacks=[elbo_logger]) # logger=pl.loggers.TensorBoardLogger('lightning_logs/')\n",
    "    trainer.fit(model, train_dataloaders=train_loader, val_dataloaders=val_loader)\n",
    "    return [-loss for loss in elbo_logger.val_losses]\n",
    "\n",
    "print('FMCVAE')\n",
    "results['F-MCVAE'] = train_and_get_elbo(fmcvae, train_loader, val_loader, num_epochs=50)\n",
    "print('AMCVAE')\n",
    "results['A-MCVAE'] = train_and_get_elbo(amcvae, train_loader, val_loader, num_epochs=50)\n",
    "print('LMCVAE')\n",
    "results['L-MCVAE'] = train_and_get_elbo(lmcvae, train_loader, val_loader, num_epochs=50)\n",
    "print('VAE')\n",
    "results['VAE'] = train_and_get_elbo(vae, train_loader, val_loader, num_epochs=50)\n",
    "print('IWAE')\n",
    "results['IWAE'] = train_and_get_elbo(iwae, train_loader, val_loader, num_epochs=50)\n",
    "print('VAE with flows')\n",
    "results['VAE with flows'] = train_and_get_elbo(flows_vae, train_loader, val_loader, num_epochs=50)"
   ]
  },
  {
   "cell_type": "code",
   "execution_count": 6,
   "metadata": {},
   "outputs": [
    {
     "data": {
      "image/png": "[encoded data removed]",
      "text/plain": [
       "<Figure size 1000x600 with 1 Axes>"
      ]
     },
     "metadata": {},
     "output_type": "display_data"
    }
   ],
   "source": [
    "plt.figure(figsize=(10, 6))\n",
    "for model_name, elbo_curve in results.items():\n",
    "    plt.plot(elbo_curve, marker='o', linestyle='-', label=model_name)\n",
    "plt.xlabel(\"Epoch\")\n",
    "plt.ylabel(\"ELBO\")\n",
    "plt.title(\"ELBO Evolution for Different Methods on Toy Dataset\")\n",
    "plt.legend()\n",
    "plt.grid(True)\n",
    "plt.show()"
   ]
  },
  {
   "cell_type": "code",
   "execution_count": 7,
   "metadata": {},
   "outputs": [
    {
     "data": {
      "text/plain": [
       "{'F-MCVAE': [-1302.759033203125,\n",
       "  -1214.4598388671875,\n",
       "  -1146.630615234375,\n",
       "  -1067.8668212890625,\n",
       "  -999.052001953125,\n",
       "  -943.4569702148438,\n",
       "  -888.3506469726562,\n",
       "  -835.508544921875,\n",
       "  -794.5603637695312,\n",
       "  -750.9445190429688,\n",
       "  -710.3416137695312,\n",
       "  -681.6866455078125,\n",
       "  -639.0736694335938,\n",
       "  -612.211181640625,\n",
       "  -574.79736328125,\n",
       "  -554.9489135742188,\n",
       "  -524.4722900390625,\n",
       "  -499.59765625,\n",
       "  -481.4043273925781,\n",
       "  -456.7310791015625,\n",
       "  -439.7890625],\n",
       " 'A-MCVAE': [-705.092041015625,\n",
       "  -639.098388671875,\n",
       "  -600.5924682617188,\n",
       "  -565.4784545898438,\n",
       "  -541.4485473632812,\n",
       "  -516.2440185546875,\n",
       "  -491.0615539550781,\n",
       "  -461.1820068359375,\n",
       "  -446.3062438964844,\n",
       "  -429.2325439453125,\n",
       "  -410.7031555175781,\n",
       "  -408.0384521484375,\n",
       "  -404.6133728027344,\n",
       "  -404.9085693359375,\n",
       "  -381.0248107910156,\n",
       "  -377.6947937011719,\n",
       "  -379.9023742675781,\n",
       "  -373.2791442871094,\n",
       "  -362.238037109375,\n",
       "  -361.44683837890625,\n",
       "  -361.2864074707031],\n",
       " 'L-MCVAE': [-1094.5272216796875,\n",
       "  -636.742431640625,\n",
       "  -595.869873046875,\n",
       "  -566.871337890625,\n",
       "  -539.6297607421875,\n",
       "  -502.64312744140625,\n",
       "  -474.1307067871094,\n",
       "  -454.9415588378906,\n",
       "  -421.897216796875,\n",
       "  -404.06951904296875,\n",
       "  -381.8426818847656,\n",
       "  -376.10687255859375,\n",
       "  -371.2810974121094,\n",
       "  -372.5146484375,\n",
       "  -358.5611267089844,\n",
       "  -354.6200256347656,\n",
       "  -352.3499755859375,\n",
       "  -344.5714111328125,\n",
       "  -337.4945983886719,\n",
       "  -334.5743713378906,\n",
       "  -331.1488952636719],\n",
       " 'VAE': [-926.2860717773438,\n",
       "  -880.1136474609375,\n",
       "  -853.5064086914062,\n",
       "  -803.6734619140625,\n",
       "  -776.2552490234375,\n",
       "  -752.498779296875,\n",
       "  -665.1337280273438,\n",
       "  -656.7122802734375,\n",
       "  -615.3442993164062,\n",
       "  -591.1708374023438,\n",
       "  -575.9707641601562,\n",
       "  -533.0234375,\n",
       "  -492.0868225097656,\n",
       "  -485.86700439453125,\n",
       "  -456.96649169921875,\n",
       "  -437.72308349609375,\n",
       "  -427.86871337890625,\n",
       "  -402.4320068359375,\n",
       "  -372.5489807128906,\n",
       "  -368.3209228515625,\n",
       "  -337.5205993652344],\n",
       " 'IWAE': [-735.5021362304688,\n",
       "  -677.431396484375,\n",
       "  -650.0140991210938,\n",
       "  -622.236328125,\n",
       "  -593.4478759765625,\n",
       "  -553.144775390625,\n",
       "  -519.1801147460938,\n",
       "  -491.5043640136719,\n",
       "  -468.3226318359375,\n",
       "  -434.0406494140625,\n",
       "  -420.3044128417969,\n",
       "  -397.2264709472656,\n",
       "  -368.35589599609375,\n",
       "  -365.9976501464844,\n",
       "  -341.6065368652344,\n",
       "  -322.1985168457031,\n",
       "  -301.19476318359375,\n",
       "  -288.4695129394531,\n",
       "  -277.6474304199219,\n",
       "  -263.56304931640625,\n",
       "  -251.62632751464844],\n",
       " 'VAE with flows': [-1003.1563110351562,\n",
       "  -932.8140869140625,\n",
       "  -868.8155517578125,\n",
       "  -808.202392578125,\n",
       "  -797.7335815429688,\n",
       "  -737.6527099609375,\n",
       "  -692.238037109375,\n",
       "  -627.1680297851562,\n",
       "  -609.8927001953125,\n",
       "  -579.2047119140625,\n",
       "  -546.1568603515625,\n",
       "  -502.802490234375,\n",
       "  -504.19696044921875,\n",
       "  -464.3083190917969,\n",
       "  -438.7054443359375,\n",
       "  -397.73382568359375,\n",
       "  -379.0364990234375,\n",
       "  -358.76922607421875,\n",
       "  -336.42901611328125,\n",
       "  -317.5359191894531,\n",
       "  -305.3999328613281]}"
      ]
     },
     "execution_count": 7,
     "metadata": {},
     "output_type": "execute_result"
    }
   ],
   "source": [
    "results"
   ]
  }
 ],
 "metadata": {
  "kernelspec": {
   "display_name": "mcvaetorch",
   "language": "python",
   "name": "python3"
  },
  "language_info": {
   "codemirror_mode": {
    "name": "ipython",
    "version": 3
   },
   "file_extension": ".py",
   "mimetype": "text/x-python",
   "name": "python",
   "nbconvert_exporter": "python",
   "pygments_lexer": "ipython3",
   "version": "3.11.11"
  }
 },
 "nbformat": 4,
 "nbformat_minor": 2
}
